{
 "cells": [
  {
   "cell_type": "markdown",
   "id": "1c774e7f-a52f-4a52-b400-1508683917ee",
   "metadata": {},
   "source": [
    "This is a Jupyter Notebook to demonstrate use of some of the scripts that are available for MECH 410I/570D. Commands are shown in cell with the label [#]. You can run the commands by clicking the arrow next to the cell, or by putting the cursor in the cell and typing shift+enter.\n",
    "\n",
    "The commands in the cell can be modified and re-run. Note that changing the values in a given cell only affects that given cell, but not all cells in this notebook (i.e., if you have run all cells and then change an early cell, you will need to re-run all cells again). All the complete notebook (i.e., all cells) can be executed using the \"Cell -> Run All\" menu item. \n",
    "\n",
    "\n",
    "To use the functions for evaluating the Planck Distribution, import the planck library."
   ]
  },
  {
   "cell_type": "code",
   "execution_count": null,
   "id": "c60c435f-f965-47e5-8b11-d25809610eed",
   "metadata": {},
   "outputs": [],
   "source": [
    "import planck as pl\n"
   ]
  },
  {
   "cell_type": "markdown",
   "id": "807331d9-85a7-4710-994e-8b1bad8f59d4",
   "metadata": {},
   "source": [
    "You can now calculate the spectral hemispherical emissive power for a given wavelength and temperature (e.g., 800nm, 2000K) "
   ]
  },
  {
   "cell_type": "code",
   "execution_count": null,
   "id": "f9ebd144-886e-498f-b2b1-6e7dcb54c93e",
   "metadata": {},
   "outputs": [],
   "source": [
    "pl.planck_elb(800e-9,2000)/1e6"
   ]
  },
  {
   "cell_type": "markdown",
   "id": "4635832e-0efb-46dc-96e6-537e7b6b8931",
   "metadata": {},
   "source": [
    "This is scaled by 1e-6 to provide dimensions of W/m2/um. \n",
    "\n",
    "Try changing the temperature and/or wavelength to see the effect on the emissive power."
   ]
  },
  {
   "cell_type": "markdown",
   "id": "d45793e3-263d-4918-a957-2e22cac6deec",
   "metadata": {},
   "source": [
    "To generate a plot the spectral emissive powers for multiple temperatures, run the script plotPlanck.py (you can download this script as an example of how to generate plots in python."
   ]
  },
  {
   "cell_type": "code",
   "execution_count": null,
   "id": "92b80ed8-06be-479d-beab-cdb027405d17",
   "metadata": {},
   "outputs": [],
   "source": [
    "%run plotPlanck.py"
   ]
  },
  {
   "cell_type": "markdown",
   "id": "01801210-8b60-49dc-9903-44c5ac465e57",
   "metadata": {},
   "source": [
    "The spectral emissive power is typically tabulated as a function of $\\lambda T$, which can be evaluated using:"
   ]
  },
  {
   "cell_type": "code",
   "execution_count": null,
   "id": "4e56732f-2fa8-4619-b571-dbe384673fd4",
   "metadata": {},
   "outputs": [],
   "source": [
    "T=2000.0\n",
    "lam=800.0e-9\n",
    "E = pl.planck_lt(lam*T)*(T**5)\n",
    "print(\"Spectral emissive power: E = {:.4g} [W/m2/um/K^5] \".format(E))"
   ]
  },
  {
   "cell_type": "code",
   "execution_count": null,
   "id": "cd91f884-bb95-4aab-8424-197010749ef7",
   "metadata": {},
   "outputs": [],
   "source": [
    "%run plotPlanck_lamT.py"
   ]
  },
  {
   "cell_type": "markdown",
   "id": "f0a94e04",
   "metadata": {},
   "source": [
    "To calculate the blackbody emissive power for a given portion of the spectrum ($\\lambda_1$ to $\\lambda_2$), use the blackF(lamT) function to calculate $F_{0\\rightarrow \\lambda T$. For example the blackbody emissive power fraction for the spectral range of 800nm to 2.5$\\mu$m at 3000K can be calculated using: "
   ]
  },
  {
   "cell_type": "code",
   "execution_count": null,
   "id": "75e74325",
   "metadata": {},
   "outputs": [],
   "source": [
    "lam1 = 0.8\n",
    "lam2 = 2.5\n",
    "T=3000.0\n",
    "F = pl.blackF(lam2*T) - pl.blackF(lam1*T)\n",
    "print(\"Emissive power fraction: F = {:.4g} [-] \".format(F))"
   ]
  },
  {
   "cell_type": "markdown",
   "id": "5bb09e8b",
   "metadata": {},
   "source": [
    "To find the emissive power, this needs to be scaled by the total emissive power"
   ]
  },
  {
   "cell_type": "code",
   "execution_count": null,
   "id": "f7ea854a",
   "metadata": {},
   "outputs": [],
   "source": [
    "sigma = 5.67e-8\n",
    "E = F*sigma*T**4.0\n",
    "print(\"Emissive power (lam_1 to lam_2): E = {:.4g} [W/m^2] \".format(E))"
   ]
  },
  {
   "cell_type": "code",
   "execution_count": null,
   "id": "76575dce",
   "metadata": {},
   "outputs": [],
   "source": []
  },
  {
   "cell_type": "code",
   "execution_count": null,
   "id": "0dcb4746",
   "metadata": {},
   "outputs": [],
   "source": []
  }
 ],
 "metadata": {
  "kernelspec": {
   "display_name": "Python 3 (ipykernel)",
   "language": "python",
   "name": "python3"
  },
  "language_info": {
   "codemirror_mode": {
    "name": "ipython",
    "version": 3
   },
   "file_extension": ".py",
   "mimetype": "text/x-python",
   "name": "python",
   "nbconvert_exporter": "python",
   "pygments_lexer": "ipython3",
   "version": "3.8.8"
  },
  "toc-autonumbering": true,
  "toc-showcode": true
 },
 "nbformat": 4,
 "nbformat_minor": 5
}
