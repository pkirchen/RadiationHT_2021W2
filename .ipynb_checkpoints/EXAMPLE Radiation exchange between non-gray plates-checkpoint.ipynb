{
 "cells": [
  {
   "cell_type": "markdown",
   "id": "71bb6e98",
   "metadata": {},
   "source": [
    "Consider two infinite parallel plates with spectrally varying emissivities (open radExchNonGray.py to review and/or modify code) "
   ]
  },
  {
   "cell_type": "code",
   "execution_count": 3,
   "id": "a71a4286",
   "metadata": {},
   "outputs": [
    {
     "name": "stdout",
     "output_type": "stream",
     "text": [
      "Net flux through surfaces q=140.6 kW/m^2\n"
     ]
    }
   ],
   "source": [
    "%run radExchNonGray.py"
   ]
  },
  {
   "cell_type": "code",
   "execution_count": null,
   "id": "5b5cabb7",
   "metadata": {},
   "outputs": [],
   "source": []
  }
 ],
 "metadata": {
  "kernelspec": {
   "display_name": "Python 3 (ipykernel)",
   "language": "python",
   "name": "python3"
  },
  "language_info": {
   "codemirror_mode": {
    "name": "ipython",
    "version": 3
   },
   "file_extension": ".py",
   "mimetype": "text/x-python",
   "name": "python",
   "nbconvert_exporter": "python",
   "pygments_lexer": "ipython3",
   "version": "3.8.8"
  }
 },
 "nbformat": 4,
 "nbformat_minor": 5
}
