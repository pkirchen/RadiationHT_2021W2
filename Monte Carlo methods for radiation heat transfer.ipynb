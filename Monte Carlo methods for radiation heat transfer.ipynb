{
 "cells": [
  {
   "cell_type": "markdown",
   "id": "61a2c5c5",
   "metadata": {},
   "source": [
    "The view factor can be determined using Monte Carlo methods. Our first example was for two co-axial (and parallel) discs. This implementation is found in discs_MC.py:"
   ]
  },
  {
   "cell_type": "code",
   "execution_count": null,
   "id": "ee8ddc28",
   "metadata": {},
   "outputs": [],
   "source": [
    "%run discs_MC.py"
   ]
  },
  {
   "cell_type": "markdown",
   "id": "67a3a335-f0cb-4434-8f7b-020f029069dd",
   "metadata": {},
   "source": [
    "By running this you first defined a function to calculated the view factor for a fixed geometry (opne discs_MC.py to see how this was done). The view factor can be calcuated by specifying a number of rays and running the function: "
   ]
  },
  {
   "cell_type": "code",
   "execution_count": null,
   "id": "d0b6e8b1-e28f-486a-9967-b52f567a44a8",
   "metadata": {},
   "outputs": [],
   "source": [
    "#%% Example to run calculation to determine view factor \n",
    "# Define number of rays\n",
    "n =10\n",
    "\n",
    "f12, f12a, df12 = discF12(n)\n",
    "\n",
    "print('N = {:3}'.format(n))\n",
    "print('{:^6}{:^18}{:^18}{:^18}'.format('','Monte Carlo','Analytical','% Diff'))\n",
    "print('{:^6}{:^18.4}{:^18.4}{:^18.4}'.format('F12',f12,f12a,df12))"
   ]
  },
  {
   "cell_type": "markdown",
   "id": "c52ef03e-85e7-40b2-981f-d2c9664018b6",
   "metadata": {},
   "source": [
    "Try running this a few times and note how the view factors (and the error relative to the analytical solution) change.\n",
    "\n",
    "We can automate this and repeat the calculation several times and observe how the values change:"
   ]
  },
  {
   "cell_type": "code",
   "execution_count": null,
   "id": "dd0d7218-e32b-4e57-9ee6-85f8177b97ad",
   "metadata": {},
   "outputs": [],
   "source": [
    "n =100\n",
    "\n",
    "df = np.array([])\n",
    "f = np.array([])\n",
    "\n",
    "for j in range(20):\n",
    "    fj,faj, dfj=discF12(n)\n",
    "    f = np.append(f, fj)\n",
    "    df = np.append(df, dfj)\n",
    "    \n",
    "    print('Repeat no. {:3}'.format(j))\n",
    "    print('{:^6}{:^18}{:^18}{:^18}'.format('','Monte Carlo','Analytical','% Diff'))\n",
    "    print('{:^6}{:^18.4}{:^18.4}{:^18.4}\\n'.format('F12',fj,faj,dfj))\n"
   ]
  },
  {
   "cell_type": "markdown",
   "id": "cc789658-a361-4701-b604-5acaa4f51265",
   "metadata": {},
   "source": [
    "It's tedious to review all these numbers, so let's plot the view factors and the difference from the analytical solution for each repetition:"
   ]
  },
  {
   "cell_type": "code",
   "execution_count": null,
   "id": "d7e8588e-703c-433e-80b0-80b76d5c853c",
   "metadata": {},
   "outputs": [],
   "source": [
    "fig1 = plt.figure()\n",
    "ax1 = plt.subplot()\n",
    "ax1.plot(f)\n",
    "ax1.set_xlabel('Iteration')\n",
    "ax1.set_ylabel('View Factor F12')\n",
    "    \n",
    "fig2 = plt.figure()\n",
    "ax2 = plt.subplot()\n",
    "ax2.plot(abs(df))\n",
    "ax2.set_xlabel('Iteration')\n",
    "ax2.set_ylabel('Error (%)')\n",
    "\n",
    "print('Average error = {:.4}%'.format(np.mean(abs(df))))"
   ]
  },
  {
   "cell_type": "markdown",
   "id": "b956e471-bd1c-467f-b6fb-b62efdc5fcc5",
   "metadata": {},
   "source": [
    "Notice that we still have considerable error and significant variability in the view factor. Repeat the calculations above with different numbers of rays and observe the effect on the error and variability in the calculated view factor. (the cell below includes the commands from the last two cells in on place) "
   ]
  },
  {
   "cell_type": "code",
   "execution_count": null,
   "id": "b28a7eaa-c61a-4197-bf60-67816d9e51ec",
   "metadata": {},
   "outputs": [],
   "source": [
    "n =100\n",
    "\n",
    "df = np.array([])\n",
    "f = np.array([])\n",
    "\n",
    "for j in range(20):\n",
    "    fj,faj, dfj=discF12(n)\n",
    "    f = np.append(f, fj)\n",
    "    df = np.append(df, dfj)\n",
    "    \n",
    "fig1 = plt.figure()\n",
    "ax1 = plt.subplot()\n",
    "ax1.plot(f)\n",
    "ax1.set_xlabel('Iteration')\n",
    "ax1.set_ylabel('View Factor F12')\n",
    "    \n",
    "fig2 = plt.figure()\n",
    "ax2 = plt.subplot()\n",
    "ax2.plot(abs(df))\n",
    "ax2.set_xlabel('Iteration')\n",
    "ax2.set_ylabel('Error (%)')\n",
    "\n",
    "print('Average error = {:.4}%'.format(np.mean(abs(df))))"
   ]
  },
  {
   "cell_type": "code",
   "execution_count": null,
   "id": "990e0e7b-3f93-4cbc-9054-18125da3df22",
   "metadata": {},
   "outputs": [],
   "source": []
  }
 ],
 "metadata": {
  "kernelspec": {
   "display_name": "Python 3 (ipykernel)",
   "language": "python",
   "name": "python3"
  },
  "language_info": {
   "codemirror_mode": {
    "name": "ipython",
    "version": 3
   },
   "file_extension": ".py",
   "mimetype": "text/x-python",
   "name": "python",
   "nbconvert_exporter": "python",
   "pygments_lexer": "ipython3",
   "version": "3.8.8"
  }
 },
 "nbformat": 4,
 "nbformat_minor": 5
}
