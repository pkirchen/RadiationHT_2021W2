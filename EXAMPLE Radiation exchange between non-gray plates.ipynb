{
 "cells": [
  {
   "cell_type": "markdown",
   "id": "6d11adc7",
   "metadata": {},
   "source": [
    "Consider two infinite parallel plates with spectrally varying emissivities (open radExchNonGray.py to review and/or modify code) "
   ]
  },
  {
   "cell_type": "code",
   "execution_count": 3,
   "id": "4e6ed016",
   "metadata": {},
   "outputs": [
    {
     "name": "stdout",
     "output_type": "stream",
     "text": [
      "Net flux through surfaces q=140.6 kW/m^2\n"
     ]
    }
   ],
   "source": [
    "%run radExchNonGray.py"
   ]
  },
  {
   "cell_type": "markdown",
   "id": "e7652208",
   "metadata": {},
   "source": []
  }
 ],
 "metadata": {
  "kernelspec": {
   "display_name": "Python 3 (ipykernel)",
   "language": "python",
   "name": "python3"
  },
  "language_info": {
   "codemirror_mode": {
    "name": "ipython",
    "version": 3
   },
   "file_extension": ".py",
   "mimetype": "text/x-python",
   "name": "python",
   "nbconvert_exporter": "python",
   "pygments_lexer": "ipython3",
   "version": "3.8.8"
  }
 },
 "nbformat": 4,
 "nbformat_minor": 5
}
