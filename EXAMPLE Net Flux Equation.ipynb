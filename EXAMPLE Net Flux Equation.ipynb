{
 "cells": [
  {
   "cell_type": "markdown",
   "id": "0d022672",
   "metadata": {},
   "source": [
    "This example considers the application of the master net flux equation (also called the radiosity equation) for an enclosure of diffuse and uniform surfaces. \n",
    "\n",
    "Import the necessary libraries:"
   ]
  },
  {
   "cell_type": "code",
   "execution_count": 1,
   "id": "4fca64e1",
   "metadata": {},
   "outputs": [],
   "source": [
    "import numpy as np\n",
    "import radiosity as r"
   ]
  },
  {
   "cell_type": "markdown",
   "id": "fc050824",
   "metadata": {},
   "source": [
    "The radiosity library defines the master net flux equation for an enclosure (you can view the code in radiosity.py) \n",
    "\n",
    "Define the surface areas and view factors:"
   ]
  },
  {
   "cell_type": "code",
   "execution_count": 2,
   "id": "ef76c0fa",
   "metadata": {},
   "outputs": [],
   "source": [
    "a1 = 0.5\n",
    "a2 = 0.05*a1\n",
    "\n",
    "f21 = 1\n",
    "f22 = 0\n",
    "f12 = a2/a1*f21\n",
    "f11 = 1-f12\n",
    "\n",
    "f = np.array([[f11, f12], [f21, f22]])"
   ]
  },
  {
   "cell_type": "markdown",
   "id": "7e3d7c5b",
   "metadata": {},
   "source": [
    "Define surface temperatures and emissivities (note array form used for shape factors, tempreature, and emissivity) "
   ]
  },
  {
   "cell_type": "code",
   "execution_count": 3,
   "id": "264e98c5",
   "metadata": {},
   "outputs": [],
   "source": [
    "T = np.array([500.0, 0])\n",
    "\n",
    "eps  = np.array([0.7, 1])"
   ]
  },
  {
   "cell_type": "markdown",
   "id": "f904f34f",
   "metadata": {},
   "source": [
    "Call the master net flux equation and solve for net flux. Return net flux for each surface:"
   ]
  },
  {
   "cell_type": "code",
   "execution_count": 4,
   "id": "96b1a368",
   "metadata": {},
   "outputs": [
    {
     "name": "stdout",
     "output_type": "stream",
     "text": [
      "Incident flux on surface 1 = 173.5 W/m2\n",
      "Incident flux on surface 2 = -3.469e+03 W/m2\n"
     ]
    }
   ],
   "source": [
    "qr = r.rad_encl_q(f,T,eps)\n",
    "\n",
    "for i in range(qr.size):\n",
    "    print ('Incident flux on surface {:1} = {:.4} W/m2'.format(i+1,qr[i])) "
   ]
  },
  {
   "cell_type": "markdown",
   "id": "02cc8296",
   "metadata": {},
   "source": [
    "In this example, surface two (index 1) is a virtual surface and we can consider the enclosure as a cavity. The net flux leaving the cavity through the opening can be compared to the emissive power of a black body at the temperature of the cavity walls. This ratio is referred to as the apparent emissivity: \n",
    "\n",
    "$\\epsilon_{a}=\\frac{q_{opening}}{\\sigma T_{cavity}^4}$"
   ]
  },
  {
   "cell_type": "code",
   "execution_count": 5,
   "id": "f7b1e74d",
   "metadata": {},
   "outputs": [
    {
     "name": "stdout",
     "output_type": "stream",
     "text": [
      "Apparent emissivity = 0.979 [-]\n"
     ]
    }
   ],
   "source": [
    "# Calculate apparent emissivity \n",
    "eps_a = -qr[1]/(5.67e-8*T[0]**4)\n",
    "print('Apparent emissivity = {:.4} [-]'.format(eps_a))\n",
    "    "
   ]
  },
  {
   "cell_type": "markdown",
   "id": "c00cc2e3",
   "metadata": {},
   "source": [
    "Note that even for a cavity wall with an emissivity less than unity, the apparent emissivity approaches unity. This is due to the diffuse and unifom nature of the cavity wall result in all emitted and reflected energy being uniformly distributed. Note that the apparent emissivity will furterh approach unity as the cavity emissivity increases, and as the area of the opening decreases (relative to the cavity wall). \n",
    "Vary the emissivity and areas above and note the effect on the apparent emissivity. "
   ]
  }
 ],
 "metadata": {
  "kernelspec": {
   "display_name": "Python 3 (ipykernel)",
   "language": "python",
   "name": "python3"
  },
  "language_info": {
   "codemirror_mode": {
    "name": "ipython",
    "version": 3
   },
   "file_extension": ".py",
   "mimetype": "text/x-python",
   "name": "python",
   "nbconvert_exporter": "python",
   "pygments_lexer": "ipython3",
   "version": "3.8.8"
  }
 },
 "nbformat": 4,
 "nbformat_minor": 5
}
